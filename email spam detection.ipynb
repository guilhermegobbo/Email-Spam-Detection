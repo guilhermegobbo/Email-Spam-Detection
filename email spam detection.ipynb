{
 "cells": [
  {
   "cell_type": "markdown",
   "id": "1836464f",
   "metadata": {},
   "source": [
    "# Bibliotecas e DataFrame"
   ]
  },
  {
   "cell_type": "code",
   "execution_count": 53,
   "id": "2bf83dc0",
   "metadata": {},
   "outputs": [
    {
     "name": "stderr",
     "output_type": "stream",
     "text": [
      "[nltk_data] Downloading package stopwords to\n",
      "[nltk_data]     C:\\Users\\guilh\\AppData\\Roaming\\nltk_data...\n",
      "[nltk_data]   Package stopwords is already up-to-date!\n"
     ]
    },
    {
     "data": {
      "text/plain": [
       "True"
      ]
     },
     "execution_count": 53,
     "metadata": {},
     "output_type": "execute_result"
    }
   ],
   "source": [
    "import pandas as pd\n",
    "import numpy as np\n",
    "import matplotlib.pyplot as plt\n",
    "import seaborn as sns\n",
    "from warnings import filterwarnings\n",
    "\n",
    "import string\n",
    "import nltk\n",
    "from nltk.corpus import stopwords\n",
    "\n",
    "from sklearn.naive_bayes import MultinomialNB\n",
    "from sklearn.svm import LinearSVC\n",
    "from sklearn.feature_extraction.text import CountVectorizer\n",
    "from sklearn.model_selection import train_test_split, cross_val_score, StratifiedKFold\n",
    "from sklearn.linear_model import LogisticRegression\n",
    "from sklearn.metrics import accuracy_score, roc_auc_score, precision_score, recall_score, f1_score, average_precision_score, confusion_matrix\n",
    "from sklearn.ensemble import RandomForestClassifier\n",
    "\n",
    "from xgboost import XGBClassifier\n",
    "\n",
    "filterwarnings('ignore')\n",
    "nltk.download('stopwords')"
   ]
  },
  {
   "cell_type": "code",
   "execution_count": 2,
   "id": "20f0e5e8",
   "metadata": {},
   "outputs": [],
   "source": [
    "# Importando o dataset\n",
    "df = pd.read_csv('spam_ham_dataset.csv')"
   ]
  },
  {
   "cell_type": "markdown",
   "id": "6653b90e",
   "metadata": {},
   "source": [
    "# Funções que usaremos"
   ]
  },
  {
   "cell_type": "code",
   "execution_count": 3,
   "id": "d5f0aefe",
   "metadata": {},
   "outputs": [],
   "source": [
    "# Função para removermos as pontuações e stopwords de cada email\n",
    "def process_text(text):\n",
    "    \n",
    "    nopunc = [char for char in text if char not in string.punctuation]\n",
    "    nopunc = ''.join(nopunc)\n",
    "    \n",
    "    clean_words = [word for word in nopunc.split() if word.lower() not in stopwords.words('english')]\n",
    "    \n",
    "    return clean_words"
   ]
  },
  {
   "cell_type": "code",
   "execution_count": 4,
   "id": "fa3c8860",
   "metadata": {},
   "outputs": [],
   "source": [
    "# Função para medir a eficácia de nosso modelo no conjunto de testes\n",
    "def evaluate(model, X_train, y_train):\n",
    "    # Definindo nosso metódo de validação cruzada\n",
    "    folds = StratifiedKFold(n_splits=5, shuffle=True, random_state=0)\n",
    "    \n",
    "    # Métricas que iremos usar\n",
    "    metrics = {\n",
    "    'Acurácia': accuracy_score,\n",
    "    'Precisão': precision_score,\n",
    "    'Recall': recall_score,\n",
    "    'F1-Score': f1_score,\n",
    "    'ROC AUC': roc_auc_score\n",
    "    }\n",
    "    \n",
    "    metric_scores = {metric: [] for metric in metrics}\n",
    "    \n",
    "    # Construção da validação cruzada\n",
    "    for index, (index_train, index_test) in enumerate(folds.split(X_train, y_train), start=1):\n",
    "        print(f'\\nFold Número {index}:\\n')\n",
    "        \n",
    "        X_fold_train, y_fold_train = X_train.iloc[index_train, :], y_train.iloc[index_train]\n",
    "        X_fold_val, y_fold_val = X_train.iloc[index_test, :], y_train.iloc[index_test]\n",
    "        \n",
    "        model.fit(X_fold_train, y_fold_train)\n",
    "        y_pred = model.predict(X_fold_val)\n",
    "        \n",
    "        for metric_name, metric_func in metrics.items():\n",
    "            score = metric_func(y_fold_val, y_pred)\n",
    "            metric_scores[metric_name].append(score)\n",
    "            print(f\"Fold {index}: {metric_name.capitalize()} - {score:.2%}\")\n",
    "            \n",
    "    print(\"\\n-----------------\\n\")\n",
    "    print(\"Resultado Médio entre os Folds:\\n\")\n",
    "    for metric_name, scores in metric_scores.items():\n",
    "        mean_score = sum(scores)/len(scores)\n",
    "        print(f\"{metric_name.capitalize()}: {mean_score:.2%}\")"
   ]
  },
  {
   "cell_type": "code",
   "execution_count": 60,
   "id": "3c0749b5",
   "metadata": {},
   "outputs": [],
   "source": [
    "# Função que gera uma matriz de correlação\n",
    "def matrix(model, X_test, y_test):\n",
    "    \n",
    "    model.fit(X_train, y_train)\n",
    "    cm = confusion_matrix(y_test, model.predict(X_test))\n",
    "    nomes = ['Verdadeiro Neg.','Falso Pos.','Falso Neg.','Verdadeiro Pos.']\n",
    "    counts = [value for value in cm.flatten()]\n",
    "    porcentagens = ['{0:.2%}'.format(value) for value in cm.flatten()/np.sum(cm)]\n",
    "    labels = [f'{v1}\\n{v2}\\n{v3}' for v1, v2, v3 in zip(nomes, counts, porcentagens)]\n",
    "    labels = np.asarray(labels).reshape(2,2)\n",
    "    plt.figure(figsize=(5, 5))\n",
    "    sns.heatmap(cm, annot=labels, cmap='Reds', fmt='')\n",
    "    plt.show();"
   ]
  },
  {
   "cell_type": "markdown",
   "id": "25021208",
   "metadata": {},
   "source": [
    "# Análise do dataset e algumas melhorias"
   ]
  },
  {
   "cell_type": "code",
   "execution_count": 6,
   "id": "46690f49",
   "metadata": {},
   "outputs": [
    {
     "data": {
      "text/html": [
       "<div>\n",
       "<style scoped>\n",
       "    .dataframe tbody tr th:only-of-type {\n",
       "        vertical-align: middle;\n",
       "    }\n",
       "\n",
       "    .dataframe tbody tr th {\n",
       "        vertical-align: top;\n",
       "    }\n",
       "\n",
       "    .dataframe thead th {\n",
       "        text-align: right;\n",
       "    }\n",
       "</style>\n",
       "<table border=\"1\" class=\"dataframe\">\n",
       "  <thead>\n",
       "    <tr style=\"text-align: right;\">\n",
       "      <th></th>\n",
       "      <th>Unnamed: 0</th>\n",
       "      <th>label</th>\n",
       "      <th>text</th>\n",
       "      <th>label_num</th>\n",
       "    </tr>\n",
       "  </thead>\n",
       "  <tbody>\n",
       "    <tr>\n",
       "      <th>0</th>\n",
       "      <td>605</td>\n",
       "      <td>ham</td>\n",
       "      <td>Subject: enron methanol ; meter # : 988291\\r\\n...</td>\n",
       "      <td>0</td>\n",
       "    </tr>\n",
       "    <tr>\n",
       "      <th>1</th>\n",
       "      <td>2349</td>\n",
       "      <td>ham</td>\n",
       "      <td>Subject: hpl nom for january 9 , 2001\\r\\n( see...</td>\n",
       "      <td>0</td>\n",
       "    </tr>\n",
       "    <tr>\n",
       "      <th>2</th>\n",
       "      <td>3624</td>\n",
       "      <td>ham</td>\n",
       "      <td>Subject: neon retreat\\r\\nho ho ho , we ' re ar...</td>\n",
       "      <td>0</td>\n",
       "    </tr>\n",
       "    <tr>\n",
       "      <th>3</th>\n",
       "      <td>4685</td>\n",
       "      <td>spam</td>\n",
       "      <td>Subject: photoshop , windows , office . cheap ...</td>\n",
       "      <td>1</td>\n",
       "    </tr>\n",
       "    <tr>\n",
       "      <th>4</th>\n",
       "      <td>2030</td>\n",
       "      <td>ham</td>\n",
       "      <td>Subject: re : indian springs\\r\\nthis deal is t...</td>\n",
       "      <td>0</td>\n",
       "    </tr>\n",
       "  </tbody>\n",
       "</table>\n",
       "</div>"
      ],
      "text/plain": [
       "   Unnamed: 0 label                                               text  \\\n",
       "0         605   ham  Subject: enron methanol ; meter # : 988291\\r\\n...   \n",
       "1        2349   ham  Subject: hpl nom for january 9 , 2001\\r\\n( see...   \n",
       "2        3624   ham  Subject: neon retreat\\r\\nho ho ho , we ' re ar...   \n",
       "3        4685  spam  Subject: photoshop , windows , office . cheap ...   \n",
       "4        2030   ham  Subject: re : indian springs\\r\\nthis deal is t...   \n",
       "\n",
       "   label_num  \n",
       "0          0  \n",
       "1          0  \n",
       "2          0  \n",
       "3          1  \n",
       "4          0  "
      ]
     },
     "execution_count": 6,
     "metadata": {},
     "output_type": "execute_result"
    }
   ],
   "source": [
    "df.head()"
   ]
  },
  {
   "cell_type": "code",
   "execution_count": 7,
   "id": "6263aea0",
   "metadata": {},
   "outputs": [
    {
     "data": {
      "text/plain": [
       "(5171, 4)"
      ]
     },
     "execution_count": 7,
     "metadata": {},
     "output_type": "execute_result"
    }
   ],
   "source": [
    "df.shape"
   ]
  },
  {
   "cell_type": "code",
   "execution_count": 8,
   "id": "6b8df6fc",
   "metadata": {},
   "outputs": [
    {
     "data": {
      "text/plain": [
       "Unnamed: 0    0\n",
       "label         0\n",
       "text          0\n",
       "label_num     0\n",
       "dtype: int64"
      ]
     },
     "execution_count": 8,
     "metadata": {},
     "output_type": "execute_result"
    }
   ],
   "source": [
    "df.isnull().sum()"
   ]
  },
  {
   "cell_type": "code",
   "execution_count": 9,
   "id": "8971f465",
   "metadata": {},
   "outputs": [
    {
     "data": {
      "text/html": [
       "<div>\n",
       "<style scoped>\n",
       "    .dataframe tbody tr th:only-of-type {\n",
       "        vertical-align: middle;\n",
       "    }\n",
       "\n",
       "    .dataframe tbody tr th {\n",
       "        vertical-align: top;\n",
       "    }\n",
       "\n",
       "    .dataframe thead th {\n",
       "        text-align: right;\n",
       "    }\n",
       "</style>\n",
       "<table border=\"1\" class=\"dataframe\">\n",
       "  <thead>\n",
       "    <tr style=\"text-align: right;\">\n",
       "      <th></th>\n",
       "      <th>text</th>\n",
       "      <th>label_num</th>\n",
       "    </tr>\n",
       "  </thead>\n",
       "  <tbody>\n",
       "    <tr>\n",
       "      <th>0</th>\n",
       "      <td>enron methanol ; meter # : 988291\\r\\nthis is ...</td>\n",
       "      <td>0</td>\n",
       "    </tr>\n",
       "    <tr>\n",
       "      <th>1</th>\n",
       "      <td>hpl nom for january 9 , 2001\\r\\n( see attache...</td>\n",
       "      <td>0</td>\n",
       "    </tr>\n",
       "    <tr>\n",
       "      <th>2</th>\n",
       "      <td>neon retreat\\r\\nho ho ho , we ' re around to ...</td>\n",
       "      <td>0</td>\n",
       "    </tr>\n",
       "    <tr>\n",
       "      <th>3</th>\n",
       "      <td>photoshop , windows , office . cheap . main t...</td>\n",
       "      <td>1</td>\n",
       "    </tr>\n",
       "    <tr>\n",
       "      <th>4</th>\n",
       "      <td>re : indian springs\\r\\nthis deal is to book t...</td>\n",
       "      <td>0</td>\n",
       "    </tr>\n",
       "  </tbody>\n",
       "</table>\n",
       "</div>"
      ],
      "text/plain": [
       "                                                text  label_num\n",
       "0   enron methanol ; meter # : 988291\\r\\nthis is ...          0\n",
       "1   hpl nom for january 9 , 2001\\r\\n( see attache...          0\n",
       "2   neon retreat\\r\\nho ho ho , we ' re around to ...          0\n",
       "3   photoshop , windows , office . cheap . main t...          1\n",
       "4   re : indian springs\\r\\nthis deal is to book t...          0"
      ]
     },
     "execution_count": 9,
     "metadata": {},
     "output_type": "execute_result"
    }
   ],
   "source": [
    "# Retirando colunas que não usaremos\n",
    "df['text'] = df['text'].str.lstrip('Subject:')\n",
    "df.drop(['Unnamed: 0', 'label'], axis=1, inplace=True)\n",
    "df.head()"
   ]
  },
  {
   "cell_type": "code",
   "execution_count": 10,
   "id": "92ca218b",
   "metadata": {},
   "outputs": [
    {
     "data": {
      "text/plain": [
       "Text(0.5, 1.0, 'Class Counts')"
      ]
     },
     "execution_count": 10,
     "metadata": {},
     "output_type": "execute_result"
    },
    {
     "data": {
      "image/png": "[encoded data removed]",
      "text/plain": [
       "<Figure size 640x480 with 1 Axes>"
      ]
     },
     "metadata": {},
     "output_type": "display_data"
    }
   ],
   "source": [
    "# Verificando a proporcionalidade de nosso target\n",
    "class_counts = df['label_num'].value_counts()\n",
    "plt.bar(df['label_num'].value_counts().index, df['label_num'].value_counts().values)\n",
    "\n",
    "plt.xticks(df['label_num'].value_counts().index, ['Ham', 'Spam'])\n",
    "\n",
    "plt.xlabel('Classes')\n",
    "plt.ylabel('Count')\n",
    "plt.title('Class Counts')"
   ]
  },
  {
   "cell_type": "code",
   "execution_count": 11,
   "id": "3d430783",
   "metadata": {},
   "outputs": [
    {
     "data": {
      "text/plain": [
       "178"
      ]
     },
     "execution_count": 11,
     "metadata": {},
     "output_type": "execute_result"
    }
   ],
   "source": [
    "df.duplicated().sum()"
   ]
  },
  {
   "cell_type": "code",
   "execution_count": 12,
   "id": "3cd346d5",
   "metadata": {},
   "outputs": [],
   "source": [
    "# Removendo linhas duplicadas\n",
    "df.drop_duplicates(inplace=True)"
   ]
  },
  {
   "cell_type": "code",
   "execution_count": 13,
   "id": "a5197889",
   "metadata": {},
   "outputs": [
    {
     "data": {
      "text/plain": [
       "text         0\n",
       "label_num    0\n",
       "dtype: int64"
      ]
     },
     "execution_count": 13,
     "metadata": {},
     "output_type": "execute_result"
    }
   ],
   "source": [
    "df.isnull().sum()"
   ]
  },
  {
   "cell_type": "code",
   "execution_count": 14,
   "id": "4b7dd880",
   "metadata": {},
   "outputs": [
    {
     "data": {
      "text/plain": [
       "0    [enron, methanol, meter, 988291, follow, note,...\n",
       "1    [hpl, nom, january, 9, 2001, see, attached, fi...\n",
       "2    [neon, retreat, ho, ho, ho, around, wonderful,...\n",
       "3    [photoshop, windows, office, cheap, main, tren...\n",
       "4    [indian, springs, deal, book, teco, pvr, reven...\n",
       "Name: text, dtype: object"
      ]
     },
     "execution_count": 14,
     "metadata": {},
     "output_type": "execute_result"
    }
   ],
   "source": [
    "# Testando nossa função de remover stopwords e pontuações\n",
    "df.text.head().apply(process_text)"
   ]
  },
  {
   "cell_type": "markdown",
   "id": "70562dae",
   "metadata": {},
   "source": [
    "# Pré-Processamento"
   ]
  },
  {
   "cell_type": "code",
   "execution_count": 15,
   "id": "bb35fdf9",
   "metadata": {},
   "outputs": [],
   "source": [
    "# Passando o conjunto de textos para uma matriz de contagem de palavras\n",
    "vectorizer = CountVectorizer(analyzer=process_text)\n",
    "X_values = vectorizer.fit_transform(df.text)\n",
    "X_values = pd.DataFrame(X_values.toarray(), columns=vectorizer.get_feature_names_out())"
   ]
  },
  {
   "cell_type": "code",
   "execution_count": 16,
   "id": "babff0cf",
   "metadata": {},
   "outputs": [
    {
     "data": {
      "text/plain": [
       "(4993, 50380)"
      ]
     },
     "execution_count": 16,
     "metadata": {},
     "output_type": "execute_result"
    }
   ],
   "source": [
    "X_values.shape"
   ]
  },
  {
   "cell_type": "code",
   "execution_count": 18,
   "id": "f2deccbb",
   "metadata": {},
   "outputs": [],
   "source": [
    "X = X_values\n",
    "y = df['label_num']\n",
    "       \n",
    "X_train, X_test, y_train, y_test = train_test_split(X, y, test_size=0.2, random_state=0, stratify=y)"
   ]
  },
  {
   "cell_type": "markdown",
   "id": "c90a8561",
   "metadata": {},
   "source": [
    "# Cross Validation "
   ]
  },
  {
   "cell_type": "code",
   "execution_count": 56,
   "id": "4513eb63",
   "metadata": {
    "scrolled": true
   },
   "outputs": [
    {
     "name": "stdout",
     "output_type": "stream",
     "text": [
      "\n",
      "Fold Número 1:\n",
      "\n",
      "Fold 1: Acurácia - 97.50%\n",
      "Fold 1: Precisão - 94.96%\n",
      "Fold 1: Recall - 96.58%\n",
      "Fold 1: F1-score - 95.76%\n",
      "Fold 1: Roc auc - 97.23%\n",
      "\n",
      "Fold Número 2:\n",
      "\n",
      "Fold 2: Acurácia - 97.62%\n",
      "Fold 2: Precisão - 94.24%\n",
      "Fold 2: Recall - 97.86%\n",
      "Fold 2: F1-score - 96.02%\n",
      "Fold 2: Roc auc - 97.69%\n",
      "\n",
      "Fold Número 3:\n",
      "\n",
      "Fold 3: Acurácia - 97.50%\n",
      "Fold 3: Precisão - 93.85%\n",
      "Fold 3: Recall - 97.86%\n",
      "Fold 3: F1-score - 95.82%\n",
      "Fold 3: Roc auc - 97.60%\n",
      "\n",
      "Fold Número 4:\n",
      "\n",
      "Fold 4: Acurácia - 97.87%\n",
      "Fold 4: Precisão - 96.17%\n",
      "Fold 4: Recall - 96.58%\n",
      "Fold 4: F1-score - 96.38%\n",
      "Fold 4: Roc auc - 97.49%\n",
      "\n",
      "Fold Número 5:\n",
      "\n",
      "Fold 5: Acurácia - 99.00%\n",
      "Fold 5: Precisão - 98.70%\n",
      "Fold 5: Recall - 97.85%\n",
      "Fold 5: F1-score - 98.28%\n",
      "Fold 5: Roc auc - 98.66%\n",
      "\n",
      "-----------------\n",
      "\n",
      "Resultado Médio entre os Folds:\n",
      "\n",
      "Acurácia: 97.90%\n",
      "Precisão: 95.58%\n",
      "Recall: 97.35%\n",
      "F1-score: 96.45%\n",
      "Roc auc: 97.74%\n"
     ]
    }
   ],
   "source": [
    "# Modelo 1: MultinomialNB\n",
    "evaluate(MultinomialNB(), X_train, y_train)"
   ]
  },
  {
   "cell_type": "code",
   "execution_count": 230,
   "id": "6caa7583",
   "metadata": {
    "scrolled": true
   },
   "outputs": [
    {
     "name": "stdout",
     "output_type": "stream",
     "text": [
      "\n",
      "Fold Número 1:\n",
      "\n",
      "Fold 1: Acurácia - 96.12%\n",
      "Fold 1: Precisão - 92.47%\n",
      "Fold 1: Recall - 94.44%\n",
      "Fold 1: F1-score - 93.45%\n",
      "Fold 1: Roc auc - 95.63%\n",
      "\n",
      "Fold Número 2:\n",
      "\n",
      "Fold 2: Acurácia - 95.62%\n",
      "Fold 2: Precisão - 93.07%\n",
      "Fold 2: Recall - 91.88%\n",
      "Fold 2: F1-score - 92.47%\n",
      "Fold 2: Roc auc - 94.52%\n",
      "\n",
      "Fold Número 3:\n",
      "\n",
      "Fold 3: Acurácia - 96.25%\n",
      "Fold 3: Precisão - 93.59%\n",
      "Fold 3: Recall - 93.59%\n",
      "Fold 3: F1-score - 93.59%\n",
      "Fold 3: Roc auc - 95.47%\n",
      "\n",
      "Fold Número 4:\n",
      "\n",
      "Fold 4: Acurácia - 97.37%\n",
      "Fold 4: Precisão - 93.83%\n",
      "Fold 4: Recall - 97.44%\n",
      "Fold 4: F1-score - 95.60%\n",
      "Fold 4: Roc auc - 97.39%\n",
      "\n",
      "Fold Número 5:\n",
      "\n",
      "Fold 5: Acurácia - 96.99%\n",
      "Fold 5: Precisão - 94.85%\n",
      "Fold 5: Recall - 94.85%\n",
      "Fold 5: F1-score - 94.85%\n",
      "Fold 5: Roc auc - 96.36%\n",
      "\n",
      "-----------------\n",
      "\n",
      "Resultado Médio entre os Folds:\n",
      "\n",
      "Acurácia: 96.47%\n",
      "Precisão: 93.56%\n",
      "Recall: 94.44%\n",
      "F1-score: 93.99%\n",
      "Roc auc: 95.87%\n"
     ]
    }
   ],
   "source": [
    "# Modelo 2: Linear SVC\n",
    "evaluate(LinearSVC(), X_train, y_train)"
   ]
  },
  {
   "cell_type": "code",
   "execution_count": 19,
   "id": "1d592571",
   "metadata": {
    "scrolled": true
   },
   "outputs": [
    {
     "name": "stdout",
     "output_type": "stream",
     "text": [
      "\n",
      "Fold Número 1:\n",
      "\n",
      "Fold 1: Acurácia - 97.12%\n",
      "Fold 1: Precisão - 92.03%\n",
      "Fold 1: Recall - 98.72%\n",
      "Fold 1: F1-score - 95.26%\n",
      "Fold 1: Roc auc - 97.59%\n",
      "\n",
      "Fold Número 2:\n",
      "\n",
      "Fold 2: Acurácia - 96.87%\n",
      "Fold 2: Precisão - 92.65%\n",
      "Fold 2: Recall - 97.01%\n",
      "Fold 2: F1-score - 94.78%\n",
      "Fold 2: Roc auc - 96.91%\n",
      "\n",
      "Fold Número 3:\n",
      "\n",
      "Fold 3: Acurácia - 96.75%\n",
      "Fold 3: Precisão - 92.62%\n",
      "Fold 3: Recall - 96.58%\n",
      "Fold 3: F1-score - 94.56%\n",
      "Fold 3: Roc auc - 96.70%\n",
      "\n",
      "Fold Número 4:\n",
      "\n",
      "Fold 4: Acurácia - 96.87%\n",
      "Fold 4: Precisão - 93.00%\n",
      "Fold 4: Recall - 96.58%\n",
      "Fold 4: F1-score - 94.76%\n",
      "Fold 4: Roc auc - 96.79%\n",
      "\n",
      "Fold Número 5:\n",
      "\n",
      "Fold 5: Acurácia - 96.74%\n",
      "Fold 5: Precisão - 92.59%\n",
      "Fold 5: Recall - 96.57%\n",
      "Fold 5: F1-score - 94.54%\n",
      "Fold 5: Roc auc - 96.69%\n",
      "\n",
      "-----------------\n",
      "\n",
      "Resultado Médio entre os Folds:\n",
      "\n",
      "Acurácia: 96.87%\n",
      "Precisão: 92.58%\n",
      "Recall: 97.09%\n",
      "F1-score: 94.78%\n",
      "Roc auc: 96.93%\n"
     ]
    }
   ],
   "source": [
    "# Modelo 3: XGBoost Classifier\n",
    "evaluate(XGBClassifier(), X_train, y_train)"
   ]
  },
  {
   "cell_type": "code",
   "execution_count": 19,
   "id": "5eb00943",
   "metadata": {
    "scrolled": true
   },
   "outputs": [
    {
     "name": "stdout",
     "output_type": "stream",
     "text": [
      "\n",
      "Fold Número 1:\n",
      "\n",
      "Fold 1: Acurácia - 97.12%\n",
      "Fold 1: Precisão - 93.78%\n",
      "Fold 1: Recall - 96.58%\n",
      "Fold 1: F1-score - 95.16%\n",
      "Fold 1: Roc auc - 96.96%\n",
      "\n",
      "Fold Número 2:\n",
      "\n",
      "Fold 2: Acurácia - 97.00%\n",
      "Fold 2: Precisão - 93.39%\n",
      "Fold 2: Recall - 96.58%\n",
      "Fold 2: F1-score - 94.96%\n",
      "Fold 2: Roc auc - 96.87%\n",
      "\n",
      "Fold Número 3:\n",
      "\n",
      "Fold 3: Acurácia - 97.00%\n",
      "Fold 3: Precisão - 92.68%\n",
      "Fold 3: Recall - 97.44%\n",
      "Fold 3: F1-score - 95.00%\n",
      "Fold 3: Roc auc - 97.13%\n",
      "\n",
      "Fold Número 4:\n",
      "\n",
      "Fold 4: Acurácia - 97.62%\n",
      "Fold 4: Precisão - 93.52%\n",
      "Fold 4: Recall - 98.72%\n",
      "Fold 4: F1-score - 96.05%\n",
      "Fold 4: Roc auc - 97.94%\n",
      "\n",
      "Fold Número 5:\n",
      "\n",
      "Fold 5: Acurácia - 97.99%\n",
      "Fold 5: Precisão - 95.40%\n",
      "Fold 5: Recall - 97.85%\n",
      "Fold 5: F1-score - 96.61%\n",
      "Fold 5: Roc auc - 97.95%\n",
      "\n",
      "-----------------\n",
      "\n",
      "Resultado Médio entre os Folds:\n",
      "\n",
      "Acurácia: 97.35%\n",
      "Precisão: 93.75%\n",
      "Recall: 97.43%\n",
      "F1-score: 95.56%\n",
      "Roc auc: 97.37%\n"
     ]
    }
   ],
   "source": [
    "# Modelo 4: Random Forest Classifier\n",
    "evaluate(RandomForestClassifier(), X_train, y_train)"
   ]
  },
  {
   "cell_type": "code",
   "execution_count": 24,
   "id": "ab565402",
   "metadata": {
    "scrolled": true
   },
   "outputs": [
    {
     "name": "stdout",
     "output_type": "stream",
     "text": [
      "\n",
      "Fold Número 1:\n",
      "\n",
      "Fold 1: Acurácia - 97.75%\n",
      "Fold 1: Precisão - 94.63%\n",
      "Fold 1: Recall - 97.86%\n",
      "Fold 1: F1-score - 96.22%\n",
      "Fold 1: Roc auc - 97.78%\n",
      "\n",
      "Fold Número 2:\n",
      "\n",
      "Fold 2: Acurácia - 97.87%\n",
      "Fold 2: Precisão - 95.40%\n",
      "Fold 2: Recall - 97.44%\n",
      "Fold 2: F1-score - 96.41%\n",
      "Fold 2: Roc auc - 97.74%\n",
      "\n",
      "Fold Número 3:\n",
      "\n",
      "Fold 3: Acurácia - 97.50%\n",
      "Fold 3: Precisão - 94.21%\n",
      "Fold 3: Recall - 97.44%\n",
      "Fold 3: F1-score - 95.80%\n",
      "Fold 3: Roc auc - 97.48%\n",
      "\n",
      "Fold Número 4:\n",
      "\n",
      "Fold 4: Acurácia - 97.75%\n",
      "Fold 4: Precisão - 93.90%\n",
      "Fold 4: Recall - 98.72%\n",
      "Fold 4: F1-score - 96.25%\n",
      "Fold 4: Roc auc - 98.03%\n",
      "\n",
      "Fold Número 5:\n",
      "\n",
      "Fold 5: Acurácia - 98.12%\n",
      "Fold 5: Precisão - 96.19%\n",
      "Fold 5: Recall - 97.42%\n",
      "Fold 5: F1-score - 96.80%\n",
      "Fold 5: Roc auc - 97.92%\n",
      "\n",
      "-----------------\n",
      "\n",
      "Resultado Médio entre os Folds:\n",
      "\n",
      "Acurácia: 97.80%\n",
      "Precisão: 94.87%\n",
      "Recall: 97.78%\n",
      "F1-score: 96.29%\n",
      "Roc auc: 97.79%\n"
     ]
    }
   ],
   "source": [
    "# Modelo 5: Logistic Regression\n",
    "evaluate(LogisticRegression(solver='liblinear'), X_train, y_train)"
   ]
  },
  {
   "cell_type": "code",
   "execution_count": 25,
   "id": "5b714df3",
   "metadata": {},
   "outputs": [],
   "source": [
    "acuracia_scores = [97.90, 96.47, 96.87, 97.35, 97.80]\n",
    "f1_scores = [96.45, 93.99, 94.78, 95.56, 96.29]\n",
    "roc_scores = [97.74, 97.74, 96.93, 97.37, 97.79]\n",
    "modelos = ['MultinomialNB', 'Linear SVC', 'XGBoost Classifier', 'Random Forest Classifier', 'Logistic Regression']"
   ]
  },
  {
   "cell_type": "code",
   "execution_count": 45,
   "id": "5830c194",
   "metadata": {},
   "outputs": [
    {
     "data": {
      "text/plain": [
       "Text(0, 0.5, 'ROC AUC')"
      ]
     },
     "execution_count": 45,
     "metadata": {},
     "output_type": "execute_result"
    },
    {
     "data": {
      "image/png": "[encoded data removed]",
      "text/plain": [
       "<Figure size 1500x500 with 3 Axes>"
      ]
     },
     "metadata": {},
     "output_type": "display_data"
    }
   ],
   "source": [
    "fig, ax = plt.subplots(3, 1, figsize = (15, 5))\n",
    "\n",
    "sns.barplot(x=modelos, y=acuracia_scores, ax=ax[0])\n",
    "ax[0].set_ylim(90, 100)\n",
    "ax[0].set_ylabel('Acurácia')\n",
    "sns.barplot(x=modelos, y=f1_scores, ax=ax[1])\n",
    "ax[1].set_ylim(90, 100)\n",
    "ax[1].set_ylabel('F1-Score')\n",
    "sns.barplot(x=modelos, y=roc_scores, ax=ax[2])\n",
    "ax[2].set_ylim(90, 100)\n",
    "ax[2].set_ylabel('ROC AUC')"
   ]
  },
  {
   "cell_type": "code",
   "execution_count": 61,
   "id": "60aecf4d",
   "metadata": {},
   "outputs": [
    {
     "data": {
      "image/png": "[encoded data removed]",
      "text/plain": [
       "<Figure size 500x500 with 2 Axes>"
      ]
     },
     "metadata": {},
     "output_type": "display_data"
    }
   ],
   "source": [
    "matrix(MultinomialNB(), X_test, y_test)"
   ]
  },
  {
   "cell_type": "code",
   "execution_count": 63,
   "id": "14f1d093",
   "metadata": {},
   "outputs": [
    {
     "data": {
      "image/png": "[encoded data removed]",
      "text/plain": [
       "<Figure size 500x500 with 2 Axes>"
      ]
     },
     "metadata": {},
     "output_type": "display_data"
    }
   ],
   "source": [
    "matrix(LogisticRegression(solver='liblinear'), X_test, y_test)"
   ]
  },
  {
   "cell_type": "markdown",
   "id": "0290db13",
   "metadata": {},
   "source": [
    "# Resultado Final"
   ]
  },
  {
   "cell_type": "markdown",
   "id": "4307e6b9",
   "metadata": {},
   "source": [
    "Como podemos observar nas matrizes acima, o modelo de Regressão Logística apresentou uma incidência menor de Falsos Positivos em comparação com o modelo MultinomialNB. Considerando a relevância desse aspecto para a detecção de emails de spam, a nossa escolha para o modelo final recai sobre a Regressão Logística."
   ]
  },
  {
   "cell_type": "markdown",
   "id": "da9366f8",
   "metadata": {},
   "source": [
    "Neste projeto de aprendizado de máquina, nosso objetivo era desenvolver um sistema eficaz para a detecção de emails de spam. Após a avaliação de diferentes modelos, métricas e técnicas, conseguimos criar um modelo baseado em Regressão Logística que se destacou. Ele apresentou um desempenho notável, com apenas 8 casos de Falsos Positivos, ou seja, situações em que emails legítimos foram erroneamente classificados como spam. Esse resultado demonstra a robustez do nosso modelo na minimização de interrupções desnecessárias para os usuários, ao mesmo tempo em que mantém uma taxa de detecção eficaz de emails de spam."
   ]
  }
 ],
 "metadata": {
  "kernelspec": {
   "display_name": "Python 3 (ipykernel)",
   "language": "python",
   "name": "python3"
  },
  "language_info": {
   "codemirror_mode": {
    "name": "ipython",
    "version": 3
   },
   "file_extension": ".py",
   "mimetype": "text/x-python",
   "name": "python",
   "nbconvert_exporter": "python",
   "pygments_lexer": "ipython3",
   "version": "3.10.9"
  }
 },
 "nbformat": 4,
 "nbformat_minor": 5
}
